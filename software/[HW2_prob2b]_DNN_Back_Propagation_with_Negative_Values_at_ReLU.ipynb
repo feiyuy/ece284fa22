{
 "cells": [
  {
   "cell_type": "code",
   "execution_count": 1,
   "id": "miniature-siemens",
   "metadata": {},
   "outputs": [
    {
     "name": "stdout",
     "output_type": "stream",
     "text": [
      "tensor([[ 8.,  0.],\n",
      "        [16.,  0.]])\n",
      "tensor([[0., 8.],\n",
      "        [0., 0.]])\n",
      "Y3 is: tensor([0., 4.], grad_fn=<ReluBackward0>)\n"
     ]
    }
   ],
   "source": [
    "import torch\n",
    "from torch.autograd import Variable\n",
    "import torch.nn as nn\n",
    "import torch.nn.functional as F\n",
    "import torch.optim as optim\n",
    "\n",
    "import torch\n",
    "\n",
    "\n",
    "criterion = nn.MSELoss()\n",
    "\n",
    "class Net(nn.Module):\n",
    "    def __init__(self):\n",
    "        super(Net, self).__init__()\n",
    "        self.fc1 = nn.Linear(2,2,bias=False)\n",
    "        self.fc2 = nn.Linear(2,2,bias=False)\n",
    "        self.ReLU = nn.ReLU()\n",
    "    def forward(self, x):\n",
    "        S2 = self.fc1(x)\n",
    "        #print(\"S2 is:\", S2)\n",
    "        Y2 = self.ReLU(S2)\n",
    "        y = self.ReLU(self.fc2(Y2))\n",
    "        return y\n",
    "    \n",
    "X  = torch.tensor([1.0,2.0])\n",
    "T  = torch.tensor([0.0,0.0])\n",
    "\n",
    "net = Net()\n",
    "\n",
    "optimizer = optim.SGD(net.parameters(), lr=0.01, momentum=0.5)\n",
    "\n",
    "\n",
    "for epoch in range(20):\n",
    "    optimizer.zero_grad()\n",
    "    Y = net(X)\n",
    "    loss = criterion(Y, T)\n",
    "    loss.backward()\n",
    "    optimizer.step()\n",
    "    print(\"Epoch {} - loss: {}\".format(epoch, loss))\n",
    "    print(W1.grad)\n",
    "    print(W2.grad)\n",
    "    print(\"Y3 is:\", Y3)"
   ]
  },
  {
   "cell_type": "code",
   "execution_count": null,
   "id": "fleet-packet",
   "metadata": {},
   "outputs": [],
   "source": []
  },
  {
   "cell_type": "code",
   "execution_count": null,
   "id": "prostate-survivor",
   "metadata": {},
   "outputs": [],
   "source": []
  },
  {
   "cell_type": "code",
   "execution_count": null,
   "id": "anticipated-light",
   "metadata": {},
   "outputs": [],
   "source": []
  },
  {
   "cell_type": "code",
   "execution_count": null,
   "id": "portuguese-aviation",
   "metadata": {},
   "outputs": [],
   "source": []
  },
  {
   "cell_type": "code",
   "execution_count": null,
   "id": "pressing-buyer",
   "metadata": {},
   "outputs": [],
   "source": []
  }
 ],
 "metadata": {
  "kernelspec": {
   "display_name": "Python 3",
   "language": "python",
   "name": "python3"
  },
  "language_info": {
   "codemirror_mode": {
    "name": "ipython",
    "version": 3
   },
   "file_extension": ".py",
   "mimetype": "text/x-python",
   "name": "python",
   "nbconvert_exporter": "python",
   "pygments_lexer": "ipython3",
   "version": "3.8.5"
  }
 },
 "nbformat": 4,
 "nbformat_minor": 5
}
